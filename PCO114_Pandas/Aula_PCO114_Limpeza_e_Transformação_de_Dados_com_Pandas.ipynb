{
  "nbformat": 4,
  "nbformat_minor": 0,
  "metadata": {
    "colab": {
      "name": "Aula PCO114 - Limpeza e Transformação de Dados com Pandas.ipynb",
      "provenance": [],
      "toc_visible": true
    },
    "kernelspec": {
      "name": "python3",
      "display_name": "Python 3"
    }
  },
  "cells": [
    {
      "cell_type": "markdown",
      "metadata": {
        "id": "9HyfznsL831G"
      },
      "source": [
        "## PCO114 - Limpando e Transformando Dados com Python\n",
        "\n",
        "> Nessa aula iremos utilizar a biblioteca Pandas do Python para nos conectarmos a uma fonte de dado e, atráves das funcionalidades da linguagem, iremos aplicar operações de limpeza e transformação nos dados."
      ]
    },
    {
      "cell_type": "markdown",
      "metadata": {
        "id": "y7m57Xf995kZ"
      },
      "source": [
        "Primeiramente, faça upload do arquivo 'dados_credito.xls' no menu lateral 'Arquivos'. O colab não mantem os arquivos carregados aqui, por ser um ambiente virtual de alocação dinâmica de recursos. Sendo assim, toda vez que voltar à um projeto do colab, é necessário recarregar os arquivos que são utilizados no seu código."
      ]
    },
    {
      "cell_type": "markdown",
      "metadata": {
        "id": "4YATN9s4-y3j"
      },
      "source": [
        "Vamos importar a biblioteca Pandas."
      ]
    },
    {
      "cell_type": "code",
      "metadata": {
        "id": "_IM_JyCg-8rN"
      },
      "source": [
        "import pandas as pd"
      ],
      "execution_count": null,
      "outputs": []
    },
    {
      "cell_type": "markdown",
      "metadata": {
        "id": "ifAcbMoz_PcO"
      },
      "source": [
        "Vamos carregar os nossos dados em um DataFrame do Pandas através da leitura do arquivo xls que foi carregado:"
      ]
    },
    {
      "cell_type": "code",
      "metadata": {
        "id": "7yT7TjMX_cDl"
      },
      "source": [
        "df = pd.read_excel('dados_credito.xls')"
      ],
      "execution_count": null,
      "outputs": []
    },
    {
      "cell_type": "markdown",
      "metadata": {
        "id": "RkDVqmn1_uSH"
      },
      "source": [
        "Vamos verificar qual o número de linhas e colunas desse arquivo."
      ]
    },
    {
      "cell_type": "code",
      "metadata": {
        "id": "zW10ryhl_5uV",
        "colab": {
          "base_uri": "https://localhost:8080/",
          "height": 35
        },
        "outputId": "fe7e41ed-5258-4444-8ccc-d9aadee21c2e"
      },
      "source": [
        "df.shape"
      ],
      "execution_count": null,
      "outputs": [
        {
          "output_type": "execute_result",
          "data": {
            "text/plain": [
              "(30000, 25)"
            ]
          },
          "metadata": {
            "tags": []
          },
          "execution_count": 27
        }
      ]
    },
    {
      "cell_type": "markdown",
      "metadata": {
        "id": "5mreVzSf_6eH"
      },
      "source": [
        "Ou seja, temos um arquivo com **30000 linhas** e **25 colunas**.\n",
        "\n",
        "Os métodos `.info()` e `.head()` são muito utilizados para que tenhamos uma visão dos dados.\n",
        "\n",
        "`.info()` fornece informações sobre todas as colunas e `.head()` mostra as primeiras linhas do DataFrame."
      ]
    },
    {
      "cell_type": "code",
      "metadata": {
        "id": "ILTuNYGnAF71",
        "colab": {
          "base_uri": "https://localhost:8080/",
          "height": 605
        },
        "outputId": "03e4b01a-b1e2-41a7-cefb-f783ef5003fe"
      },
      "source": [
        "df.info()"
      ],
      "execution_count": null,
      "outputs": [
        {
          "output_type": "stream",
          "text": [
            "<class 'pandas.core.frame.DataFrame'>\n",
            "RangeIndex: 30000 entries, 0 to 29999\n",
            "Data columns (total 25 columns):\n",
            " #   Column                      Non-Null Count  Dtype \n",
            "---  ------                      --------------  ----- \n",
            " 0   ID                          30000 non-null  object\n",
            " 1   LIMIT_BAL                   30000 non-null  int64 \n",
            " 2   SEX                         30000 non-null  int64 \n",
            " 3   EDUCATION                   30000 non-null  int64 \n",
            " 4   MARRIAGE                    30000 non-null  int64 \n",
            " 5   AGE                         30000 non-null  int64 \n",
            " 6   PAY_1                       30000 non-null  object\n",
            " 7   PAY_2                       30000 non-null  int64 \n",
            " 8   PAY_3                       30000 non-null  int64 \n",
            " 9   PAY_4                       30000 non-null  int64 \n",
            " 10  PAY_5                       30000 non-null  int64 \n",
            " 11  PAY_6                       30000 non-null  int64 \n",
            " 12  BILL_AMT1                   30000 non-null  int64 \n",
            " 13  BILL_AMT2                   30000 non-null  int64 \n",
            " 14  BILL_AMT3                   30000 non-null  int64 \n",
            " 15  BILL_AMT4                   30000 non-null  int64 \n",
            " 16  BILL_AMT5                   30000 non-null  int64 \n",
            " 17  BILL_AMT6                   30000 non-null  int64 \n",
            " 18  PAY_AMT1                    30000 non-null  int64 \n",
            " 19  PAY_AMT2                    30000 non-null  int64 \n",
            " 20  PAY_AMT3                    30000 non-null  int64 \n",
            " 21  PAY_AMT4                    30000 non-null  int64 \n",
            " 22  PAY_AMT5                    30000 non-null  int64 \n",
            " 23  PAY_AMT6                    30000 non-null  int64 \n",
            " 24  default payment next month  30000 non-null  int64 \n",
            "dtypes: int64(23), object(2)\n",
            "memory usage: 5.7+ MB\n"
          ],
          "name": "stdout"
        }
      ]
    },
    {
      "cell_type": "code",
      "metadata": {
        "id": "dZlmo7DVAmDX",
        "colab": {
          "base_uri": "https://localhost:8080/",
          "height": 296
        },
        "outputId": "1644f67f-ebae-48e9-fa95-c51318978dac"
      },
      "source": [
        "#Por padrão, head traz as 5 primeiras linhas do arquivo\n",
        "#Esse valor pode ser especificado dentro dos parênteses\n",
        "df.head()"
      ],
      "execution_count": null,
      "outputs": [
        {
          "output_type": "execute_result",
          "data": {
            "text/html": [
              "<div>\n",
              "<style scoped>\n",
              "    .dataframe tbody tr th:only-of-type {\n",
              "        vertical-align: middle;\n",
              "    }\n",
              "\n",
              "    .dataframe tbody tr th {\n",
              "        vertical-align: top;\n",
              "    }\n",
              "\n",
              "    .dataframe thead th {\n",
              "        text-align: right;\n",
              "    }\n",
              "</style>\n",
              "<table border=\"1\" class=\"dataframe\">\n",
              "  <thead>\n",
              "    <tr style=\"text-align: right;\">\n",
              "      <th></th>\n",
              "      <th>ID</th>\n",
              "      <th>LIMIT_BAL</th>\n",
              "      <th>SEX</th>\n",
              "      <th>EDUCATION</th>\n",
              "      <th>MARRIAGE</th>\n",
              "      <th>AGE</th>\n",
              "      <th>PAY_1</th>\n",
              "      <th>PAY_2</th>\n",
              "      <th>PAY_3</th>\n",
              "      <th>PAY_4</th>\n",
              "      <th>PAY_5</th>\n",
              "      <th>PAY_6</th>\n",
              "      <th>BILL_AMT1</th>\n",
              "      <th>BILL_AMT2</th>\n",
              "      <th>BILL_AMT3</th>\n",
              "      <th>BILL_AMT4</th>\n",
              "      <th>BILL_AMT5</th>\n",
              "      <th>BILL_AMT6</th>\n",
              "      <th>PAY_AMT1</th>\n",
              "      <th>PAY_AMT2</th>\n",
              "      <th>PAY_AMT3</th>\n",
              "      <th>PAY_AMT4</th>\n",
              "      <th>PAY_AMT5</th>\n",
              "      <th>PAY_AMT6</th>\n",
              "      <th>default payment next month</th>\n",
              "    </tr>\n",
              "  </thead>\n",
              "  <tbody>\n",
              "    <tr>\n",
              "      <th>0</th>\n",
              "      <td>798fc410-45c1</td>\n",
              "      <td>20000</td>\n",
              "      <td>2</td>\n",
              "      <td>2</td>\n",
              "      <td>1</td>\n",
              "      <td>24</td>\n",
              "      <td>2</td>\n",
              "      <td>2</td>\n",
              "      <td>-1</td>\n",
              "      <td>-1</td>\n",
              "      <td>-2</td>\n",
              "      <td>-2</td>\n",
              "      <td>3913</td>\n",
              "      <td>3102</td>\n",
              "      <td>689</td>\n",
              "      <td>0</td>\n",
              "      <td>0</td>\n",
              "      <td>0</td>\n",
              "      <td>0</td>\n",
              "      <td>689</td>\n",
              "      <td>0</td>\n",
              "      <td>0</td>\n",
              "      <td>0</td>\n",
              "      <td>0</td>\n",
              "      <td>1</td>\n",
              "    </tr>\n",
              "    <tr>\n",
              "      <th>1</th>\n",
              "      <td>8a8c8f3b-8eb4</td>\n",
              "      <td>120000</td>\n",
              "      <td>2</td>\n",
              "      <td>2</td>\n",
              "      <td>2</td>\n",
              "      <td>26</td>\n",
              "      <td>-1</td>\n",
              "      <td>2</td>\n",
              "      <td>0</td>\n",
              "      <td>0</td>\n",
              "      <td>0</td>\n",
              "      <td>2</td>\n",
              "      <td>2682</td>\n",
              "      <td>1725</td>\n",
              "      <td>2682</td>\n",
              "      <td>3272</td>\n",
              "      <td>3455</td>\n",
              "      <td>3261</td>\n",
              "      <td>0</td>\n",
              "      <td>1000</td>\n",
              "      <td>1000</td>\n",
              "      <td>1000</td>\n",
              "      <td>0</td>\n",
              "      <td>2000</td>\n",
              "      <td>1</td>\n",
              "    </tr>\n",
              "    <tr>\n",
              "      <th>2</th>\n",
              "      <td>85698822-43f5</td>\n",
              "      <td>90000</td>\n",
              "      <td>2</td>\n",
              "      <td>2</td>\n",
              "      <td>2</td>\n",
              "      <td>34</td>\n",
              "      <td>0</td>\n",
              "      <td>0</td>\n",
              "      <td>0</td>\n",
              "      <td>0</td>\n",
              "      <td>0</td>\n",
              "      <td>0</td>\n",
              "      <td>29239</td>\n",
              "      <td>14027</td>\n",
              "      <td>13559</td>\n",
              "      <td>14331</td>\n",
              "      <td>14948</td>\n",
              "      <td>15549</td>\n",
              "      <td>1518</td>\n",
              "      <td>1500</td>\n",
              "      <td>1000</td>\n",
              "      <td>1000</td>\n",
              "      <td>1000</td>\n",
              "      <td>5000</td>\n",
              "      <td>0</td>\n",
              "    </tr>\n",
              "    <tr>\n",
              "      <th>3</th>\n",
              "      <td>0737c11b-be42</td>\n",
              "      <td>50000</td>\n",
              "      <td>2</td>\n",
              "      <td>2</td>\n",
              "      <td>1</td>\n",
              "      <td>37</td>\n",
              "      <td>0</td>\n",
              "      <td>0</td>\n",
              "      <td>0</td>\n",
              "      <td>0</td>\n",
              "      <td>0</td>\n",
              "      <td>0</td>\n",
              "      <td>46990</td>\n",
              "      <td>48233</td>\n",
              "      <td>49291</td>\n",
              "      <td>28314</td>\n",
              "      <td>28959</td>\n",
              "      <td>29547</td>\n",
              "      <td>2000</td>\n",
              "      <td>2019</td>\n",
              "      <td>1200</td>\n",
              "      <td>1100</td>\n",
              "      <td>1069</td>\n",
              "      <td>1000</td>\n",
              "      <td>0</td>\n",
              "    </tr>\n",
              "    <tr>\n",
              "      <th>4</th>\n",
              "      <td>3b7f77cc-dbc0</td>\n",
              "      <td>50000</td>\n",
              "      <td>1</td>\n",
              "      <td>2</td>\n",
              "      <td>1</td>\n",
              "      <td>57</td>\n",
              "      <td>-1</td>\n",
              "      <td>0</td>\n",
              "      <td>-1</td>\n",
              "      <td>0</td>\n",
              "      <td>0</td>\n",
              "      <td>0</td>\n",
              "      <td>8617</td>\n",
              "      <td>5670</td>\n",
              "      <td>35835</td>\n",
              "      <td>20940</td>\n",
              "      <td>19146</td>\n",
              "      <td>19131</td>\n",
              "      <td>2000</td>\n",
              "      <td>36681</td>\n",
              "      <td>10000</td>\n",
              "      <td>9000</td>\n",
              "      <td>689</td>\n",
              "      <td>679</td>\n",
              "      <td>0</td>\n",
              "    </tr>\n",
              "  </tbody>\n",
              "</table>\n",
              "</div>"
            ],
            "text/plain": [
              "              ID  LIMIT_BAL  ...  PAY_AMT6  default payment next month\n",
              "0  798fc410-45c1      20000  ...         0                           1\n",
              "1  8a8c8f3b-8eb4     120000  ...      2000                           1\n",
              "2  85698822-43f5      90000  ...      5000                           0\n",
              "3  0737c11b-be42      50000  ...      1000                           0\n",
              "4  3b7f77cc-dbc0      50000  ...       679                           0\n",
              "\n",
              "[5 rows x 25 columns]"
            ]
          },
          "metadata": {
            "tags": []
          },
          "execution_count": 29
        }
      ]
    },
    {
      "cell_type": "markdown",
      "metadata": {
        "id": "p7BSxCBXAn7R"
      },
      "source": [
        "# Vamos agora verificar a integridade básica dos dados. \n",
        "\n",
        "Nos foi dito que a coluna 'ID' contém valores únicos que identificam os clientes e que cada linha desse conjunto de dados representa um cliente. Devemos verificar se isso é verdade, analisando se essa coluna contém valores que não se repetem.**negrito**"
      ]
    },
    {
      "cell_type": "code",
      "metadata": {
        "id": "eIXcLXFcBpwL",
        "colab": {
          "base_uri": "https://localhost:8080/",
          "height": 35
        },
        "outputId": "d59a6ded-b296-4424-fa08-f9ee578c7935"
      },
      "source": [
        "df['ID'].nunique()"
      ],
      "execution_count": null,
      "outputs": [
        {
          "output_type": "execute_result",
          "data": {
            "text/plain": [
              "29687"
            ]
          },
          "metadata": {
            "tags": []
          },
          "execution_count": 30
        }
      ]
    },
    {
      "cell_type": "markdown",
      "metadata": {
        "id": "rl8qtwuzBua7"
      },
      "source": [
        "O comando acima nos diz que existem **29687 linhas** com ID que possuem valores únicos. Porém, nosso arquivo contém 30000 linhas, o que indica que alguns registros contém valores repetidos para o 'ID' do cliente.\n",
        "\n",
        "Sendo assim, precisamos identificar quais IDs estão duplicados e quantas vezes isso ocorre.\n",
        "\n",
        "Usaremos o método `.value_counts` na coluna ID para começar a identificar esses problemas. Esse método é semelhante ao **group by/count** de um comando SQL. Ele irá exibir os IDs e a frequência com que ocorrem."
      ]
    },
    {
      "cell_type": "code",
      "metadata": {
        "id": "oLbF7kkFCPlr",
        "colab": {
          "base_uri": "https://localhost:8080/",
          "height": 127
        },
        "outputId": "8ab0c293-a118-42c2-9aee-4a0cb63fd4cc"
      },
      "source": [
        "id_cont = df['ID'].value_counts()\n",
        "id_cont.head() #exibindo somente as 5 primeiras linhas"
      ],
      "execution_count": null,
      "outputs": [
        {
          "output_type": "execute_result",
          "data": {
            "text/plain": [
              "823267c1-561b    2\n",
              "ffb9a143-c375    2\n",
              "249b09c0-f4c7    2\n",
              "0ad143f2-bd95    2\n",
              "a7559852-f405    2\n",
              "Name: ID, dtype: int64"
            ]
          },
          "metadata": {
            "tags": []
          },
          "execution_count": 31
        }
      ]
    },
    {
      "cell_type": "markdown",
      "metadata": {
        "id": "9P0IvEQNDglH"
      },
      "source": [
        "Vamos aplicar o método `.value_counts` na variável id_cont para obter a quantidade de entradas que foram duplicadas."
      ]
    },
    {
      "cell_type": "code",
      "metadata": {
        "id": "f0qby4ooD2YR",
        "colab": {
          "base_uri": "https://localhost:8080/",
          "height": 72
        },
        "outputId": "a1230391-939f-4d7f-f859-10d8982d4cd5"
      },
      "source": [
        "id_cont.value_counts()"
      ],
      "execution_count": null,
      "outputs": [
        {
          "output_type": "execute_result",
          "data": {
            "text/plain": [
              "1    29374\n",
              "2      313\n",
              "Name: ID, dtype: int64"
            ]
          },
          "metadata": {
            "tags": []
          },
          "execution_count": 32
        }
      ]
    },
    {
      "cell_type": "markdown",
      "metadata": {
        "id": "M07joRf_D4pR"
      },
      "source": [
        "Dessa forma podemos notar que a maioria dos IDs aparece uma única vez, mas 313 desses IDs aparecem 2 vezes. É possível perceber que nenhum ID aparece mais de 2 vezes.\n",
        "\n",
        "Partiremos agora para a limpeza desses dados duplicados."
      ]
    },
    {
      "cell_type": "markdown",
      "metadata": {
        "id": "vfFJQfI6Ei6N"
      },
      "source": [
        "# Criando máscaras booleanas para limpar os dados\n",
        "\n",
        "Também conhecida como máscara lógica, uma máscara booleana serve para filtrar um array ou série obedecendo alguma condição.\n",
        "\n",
        "Para exemplificar, vamos utilizar um array genérico antes de aplicarmos as mudanças no nosso conjunto de dados, utilizando a biblioteca `numpy`."
      ]
    },
    {
      "cell_type": "code",
      "metadata": {
        "id": "smRYXq3_FzPu"
      },
      "source": [
        "import numpy as np"
      ],
      "execution_count": null,
      "outputs": []
    },
    {
      "cell_type": "markdown",
      "metadata": {
        "id": "GBZaXYNgF4NO"
      },
      "source": [
        "Vamos criar um array de 100 números inteiros de forma aleatória. A função de aleatoriedade do numpy permite que uma semente (**seed**) seja especificada para que experimentos que utilizam números aleatórios possam ser reproduzidos."
      ]
    },
    {
      "cell_type": "code",
      "metadata": {
        "id": "x1cK17P1GdF3",
        "colab": {
          "base_uri": "https://localhost:8080/",
          "height": 35
        },
        "outputId": "bf0614a5-ef20-43f7-e855-4997abe96ec5"
      },
      "source": [
        "np.random.seed(seed=24)\n",
        "\n",
        "inteiros_aleatorios = np.random.randint(low=1,high=5,size=100)\n",
        "\n",
        "#vamos verificar os 5 primeiros itens\n",
        "inteiros_aleatorios[:5]"
      ],
      "execution_count": null,
      "outputs": [
        {
          "output_type": "execute_result",
          "data": {
            "text/plain": [
              "array([3, 4, 1, 4, 2])"
            ]
          },
          "metadata": {
            "tags": []
          },
          "execution_count": 34
        }
      ]
    },
    {
      "cell_type": "markdown",
      "metadata": {
        "id": "RC2qkahrGpE4"
      },
      "source": [
        "Suponha que queremos identificar todos os valores dentro desse array que sejam iguais a 3. Nossa máscara booleana seria algo como:"
      ]
    },
    {
      "cell_type": "code",
      "metadata": {
        "id": "DxO1S3LLG-Ch",
        "colab": {
          "base_uri": "https://localhost:8080/",
          "height": 35
        },
        "outputId": "8fb0a989-ac3a-464a-89fe-af203dd36507"
      },
      "source": [
        "igual_a_3 = inteiros_aleatorios == 3\n",
        "\n",
        "#vamos verificar os 5 primeiros itens\n",
        "igual_a_3[:5]"
      ],
      "execution_count": null,
      "outputs": [
        {
          "output_type": "execute_result",
          "data": {
            "text/plain": [
              "array([ True, False, False, False, False])"
            ]
          },
          "metadata": {
            "tags": []
          },
          "execution_count": 35
        }
      ]
    },
    {
      "cell_type": "markdown",
      "metadata": {
        "id": "8h4fG9SzHLh6"
      },
      "source": [
        "Podemos agora utilizar essa máscara para indexar o array original e obter todas as ocorrências do valor 3."
      ]
    },
    {
      "cell_type": "code",
      "metadata": {
        "id": "uGOod9DRHloj",
        "colab": {
          "base_uri": "https://localhost:8080/",
          "height": 35
        },
        "outputId": "2d5e0c0e-5260-4cc3-e3fb-c6a73a02fa42"
      },
      "source": [
        "inteiros_aleatorios[igual_a_3]"
      ],
      "execution_count": null,
      "outputs": [
        {
          "output_type": "execute_result",
          "data": {
            "text/plain": [
              "array([3, 3, 3, 3, 3, 3, 3, 3, 3, 3, 3, 3, 3, 3, 3, 3, 3, 3, 3, 3, 3, 3])"
            ]
          },
          "metadata": {
            "tags": []
          },
          "execution_count": 36
        }
      ]
    },
    {
      "cell_type": "markdown",
      "metadata": {
        "id": "hHhEMQwqHoWL"
      },
      "source": [
        "Dado o exemplo acima, vamos aplicar o conceito das máscaras booleanas no conjunto de dados. Para isso, vamos encontrar na variável `id_cont` valores de contagem que sejam iguais a 2. Atribuiremos os IDs duplicados a uma variável chamada `dup_mask` e exibiremos os cinco primeiros valores:"
      ]
    },
    {
      "cell_type": "code",
      "metadata": {
        "id": "scx_i2Gxa-Ia",
        "colab": {
          "base_uri": "https://localhost:8080/",
          "height": 127
        },
        "outputId": "2e4fe366-894c-41ce-a67c-c0ed3e9ccef3"
      },
      "source": [
        "dup_mask = id_cont == 2\n",
        "dup_mask[0:5]"
      ],
      "execution_count": null,
      "outputs": [
        {
          "output_type": "execute_result",
          "data": {
            "text/plain": [
              "823267c1-561b    True\n",
              "ffb9a143-c375    True\n",
              "249b09c0-f4c7    True\n",
              "0ad143f2-bd95    True\n",
              "a7559852-f405    True\n",
              "Name: ID, dtype: bool"
            ]
          },
          "metadata": {
            "tags": []
          },
          "execution_count": 37
        }
      ]
    },
    {
      "cell_type": "markdown",
      "metadata": {
        "id": "x-2rwTxGbElE"
      },
      "source": [
        "Com a máscara criada, vamos selecionar os IDs duplicados. Os IDs aparecem como o índice da série `id_cont`, sendo possível então que possamos aplicar a máscara lógica para realizar a seleção dos IDs duplicados:"
      ]
    },
    {
      "cell_type": "code",
      "metadata": {
        "id": "44rYTfAYbs1d"
      },
      "source": [
        "dup_ids = id_cont.index[dup_mask]"
      ],
      "execution_count": null,
      "outputs": []
    },
    {
      "cell_type": "markdown",
      "metadata": {
        "id": "07X6algfb0yN"
      },
      "source": [
        "Vamos converter `dup_ids` em uma lista e verificar o tamanho dela:"
      ]
    },
    {
      "cell_type": "code",
      "metadata": {
        "id": "-ShoqXi0b8S1",
        "colab": {
          "base_uri": "https://localhost:8080/",
          "height": 35
        },
        "outputId": "82e40895-3dca-4136-e64e-7400c49507b3"
      },
      "source": [
        "dup_ids = list(dup_ids)\n",
        "len(dup_ids)"
      ],
      "execution_count": null,
      "outputs": [
        {
          "output_type": "execute_result",
          "data": {
            "text/plain": [
              "313"
            ]
          },
          "metadata": {
            "tags": []
          },
          "execution_count": 39
        }
      ]
    },
    {
      "cell_type": "markdown",
      "metadata": {
        "id": "Uz_lmWOjcBvF"
      },
      "source": [
        "Podemos observar que esse valor corresponde ao número de IDs identificdos como duplicatas. Sendo assim, vamos agora utilizar essa lista para analisar os dados presentes nesses IDs.\n",
        "\n",
        "Primeiramente, vamos ver o conteúdo de `dup_ids` (5 primeiras linhas):"
      ]
    },
    {
      "cell_type": "code",
      "metadata": {
        "id": "tGFkNuiXcjvf",
        "colab": {
          "base_uri": "https://localhost:8080/",
          "height": 109
        },
        "outputId": "01792333-2139-4af7-b09c-59d36501c4e5"
      },
      "source": [
        "dup_ids[:5]"
      ],
      "execution_count": null,
      "outputs": [
        {
          "output_type": "execute_result",
          "data": {
            "text/plain": [
              "['823267c1-561b',\n",
              " 'ffb9a143-c375',\n",
              " '249b09c0-f4c7',\n",
              " '0ad143f2-bd95',\n",
              " 'a7559852-f405']"
            ]
          },
          "metadata": {
            "tags": []
          },
          "execution_count": 40
        }
      ]
    },
    {
      "cell_type": "markdown",
      "metadata": {
        "id": "BLwa6o_1clrQ"
      },
      "source": [
        "São os IDs duplicados. Vamos examinar os valores das outras colunas que pertencem à esses IDs. Para isso, utilizaremos os métodos `.isin` e `.loc` do DataFrame.\n",
        "\n",
        "Vamos utilizar os 3 primeiros valores da nossa lista. \n",
        "\n",
        "Primeiro, queremos encontrar as linhas que contenham esses IDs. Faremos isso com a função `.isin` na coluna ID do DataFrame. Ela irá criar uma outra máscara lógica para exibir as linhas que contém aqueles IDs da lista. Usaremos também a função `.loc` que irá selecionar as linhas que retornarem `True` na máscara lógica."
      ]
    },
    {
      "cell_type": "code",
      "metadata": {
        "id": "0zimS4ofuCW5",
        "colab": {
          "base_uri": "https://localhost:8080/",
          "height": 310
        },
        "outputId": "0c9078e3-4b97-40fd-d19d-9db4778b0f52"
      },
      "source": [
        "df.loc[df['ID'].isin(dup_ids[0:3]), :]"
      ],
      "execution_count": null,
      "outputs": [
        {
          "output_type": "execute_result",
          "data": {
            "text/html": [
              "<div>\n",
              "<style scoped>\n",
              "    .dataframe tbody tr th:only-of-type {\n",
              "        vertical-align: middle;\n",
              "    }\n",
              "\n",
              "    .dataframe tbody tr th {\n",
              "        vertical-align: top;\n",
              "    }\n",
              "\n",
              "    .dataframe thead th {\n",
              "        text-align: right;\n",
              "    }\n",
              "</style>\n",
              "<table border=\"1\" class=\"dataframe\">\n",
              "  <thead>\n",
              "    <tr style=\"text-align: right;\">\n",
              "      <th></th>\n",
              "      <th>ID</th>\n",
              "      <th>LIMIT_BAL</th>\n",
              "      <th>SEX</th>\n",
              "      <th>EDUCATION</th>\n",
              "      <th>MARRIAGE</th>\n",
              "      <th>AGE</th>\n",
              "      <th>PAY_1</th>\n",
              "      <th>PAY_2</th>\n",
              "      <th>PAY_3</th>\n",
              "      <th>PAY_4</th>\n",
              "      <th>PAY_5</th>\n",
              "      <th>PAY_6</th>\n",
              "      <th>BILL_AMT1</th>\n",
              "      <th>BILL_AMT2</th>\n",
              "      <th>BILL_AMT3</th>\n",
              "      <th>BILL_AMT4</th>\n",
              "      <th>BILL_AMT5</th>\n",
              "      <th>BILL_AMT6</th>\n",
              "      <th>PAY_AMT1</th>\n",
              "      <th>PAY_AMT2</th>\n",
              "      <th>PAY_AMT3</th>\n",
              "      <th>PAY_AMT4</th>\n",
              "      <th>PAY_AMT5</th>\n",
              "      <th>PAY_AMT6</th>\n",
              "      <th>default payment next month</th>\n",
              "    </tr>\n",
              "  </thead>\n",
              "  <tbody>\n",
              "    <tr>\n",
              "      <th>5753</th>\n",
              "      <td>823267c1-561b</td>\n",
              "      <td>330000</td>\n",
              "      <td>2</td>\n",
              "      <td>2</td>\n",
              "      <td>2</td>\n",
              "      <td>30</td>\n",
              "      <td>-2</td>\n",
              "      <td>-2</td>\n",
              "      <td>-2</td>\n",
              "      <td>-2</td>\n",
              "      <td>-2</td>\n",
              "      <td>-2</td>\n",
              "      <td>0</td>\n",
              "      <td>0</td>\n",
              "      <td>0</td>\n",
              "      <td>0</td>\n",
              "      <td>0</td>\n",
              "      <td>0</td>\n",
              "      <td>0</td>\n",
              "      <td>0</td>\n",
              "      <td>0</td>\n",
              "      <td>0</td>\n",
              "      <td>0</td>\n",
              "      <td>0</td>\n",
              "      <td>1</td>\n",
              "    </tr>\n",
              "    <tr>\n",
              "      <th>5853</th>\n",
              "      <td>823267c1-561b</td>\n",
              "      <td>0</td>\n",
              "      <td>0</td>\n",
              "      <td>0</td>\n",
              "      <td>0</td>\n",
              "      <td>0</td>\n",
              "      <td>0</td>\n",
              "      <td>0</td>\n",
              "      <td>0</td>\n",
              "      <td>0</td>\n",
              "      <td>0</td>\n",
              "      <td>0</td>\n",
              "      <td>0</td>\n",
              "      <td>0</td>\n",
              "      <td>0</td>\n",
              "      <td>0</td>\n",
              "      <td>0</td>\n",
              "      <td>0</td>\n",
              "      <td>0</td>\n",
              "      <td>0</td>\n",
              "      <td>0</td>\n",
              "      <td>0</td>\n",
              "      <td>0</td>\n",
              "      <td>0</td>\n",
              "      <td>0</td>\n",
              "    </tr>\n",
              "    <tr>\n",
              "      <th>6118</th>\n",
              "      <td>249b09c0-f4c7</td>\n",
              "      <td>360000</td>\n",
              "      <td>1</td>\n",
              "      <td>1</td>\n",
              "      <td>2</td>\n",
              "      <td>29</td>\n",
              "      <td>-1</td>\n",
              "      <td>-1</td>\n",
              "      <td>-1</td>\n",
              "      <td>-2</td>\n",
              "      <td>-1</td>\n",
              "      <td>0</td>\n",
              "      <td>2273</td>\n",
              "      <td>1170</td>\n",
              "      <td>0</td>\n",
              "      <td>0</td>\n",
              "      <td>7972</td>\n",
              "      <td>8275</td>\n",
              "      <td>1175</td>\n",
              "      <td>0</td>\n",
              "      <td>0</td>\n",
              "      <td>7972</td>\n",
              "      <td>435</td>\n",
              "      <td>2947</td>\n",
              "      <td>0</td>\n",
              "    </tr>\n",
              "    <tr>\n",
              "      <th>6218</th>\n",
              "      <td>249b09c0-f4c7</td>\n",
              "      <td>0</td>\n",
              "      <td>0</td>\n",
              "      <td>0</td>\n",
              "      <td>0</td>\n",
              "      <td>0</td>\n",
              "      <td>0</td>\n",
              "      <td>0</td>\n",
              "      <td>0</td>\n",
              "      <td>0</td>\n",
              "      <td>0</td>\n",
              "      <td>0</td>\n",
              "      <td>0</td>\n",
              "      <td>0</td>\n",
              "      <td>0</td>\n",
              "      <td>0</td>\n",
              "      <td>0</td>\n",
              "      <td>0</td>\n",
              "      <td>0</td>\n",
              "      <td>0</td>\n",
              "      <td>0</td>\n",
              "      <td>0</td>\n",
              "      <td>0</td>\n",
              "      <td>0</td>\n",
              "      <td>0</td>\n",
              "    </tr>\n",
              "    <tr>\n",
              "      <th>8746</th>\n",
              "      <td>ffb9a143-c375</td>\n",
              "      <td>80000</td>\n",
              "      <td>1</td>\n",
              "      <td>1</td>\n",
              "      <td>2</td>\n",
              "      <td>27</td>\n",
              "      <td>0</td>\n",
              "      <td>0</td>\n",
              "      <td>0</td>\n",
              "      <td>0</td>\n",
              "      <td>0</td>\n",
              "      <td>0</td>\n",
              "      <td>42653</td>\n",
              "      <td>46609</td>\n",
              "      <td>47306</td>\n",
              "      <td>51179</td>\n",
              "      <td>52073</td>\n",
              "      <td>52833</td>\n",
              "      <td>5000</td>\n",
              "      <td>1801</td>\n",
              "      <td>5000</td>\n",
              "      <td>2035</td>\n",
              "      <td>2100</td>\n",
              "      <td>6200</td>\n",
              "      <td>0</td>\n",
              "    </tr>\n",
              "    <tr>\n",
              "      <th>8846</th>\n",
              "      <td>ffb9a143-c375</td>\n",
              "      <td>0</td>\n",
              "      <td>0</td>\n",
              "      <td>0</td>\n",
              "      <td>0</td>\n",
              "      <td>0</td>\n",
              "      <td>0</td>\n",
              "      <td>0</td>\n",
              "      <td>0</td>\n",
              "      <td>0</td>\n",
              "      <td>0</td>\n",
              "      <td>0</td>\n",
              "      <td>0</td>\n",
              "      <td>0</td>\n",
              "      <td>0</td>\n",
              "      <td>0</td>\n",
              "      <td>0</td>\n",
              "      <td>0</td>\n",
              "      <td>0</td>\n",
              "      <td>0</td>\n",
              "      <td>0</td>\n",
              "      <td>0</td>\n",
              "      <td>0</td>\n",
              "      <td>0</td>\n",
              "      <td>0</td>\n",
              "    </tr>\n",
              "  </tbody>\n",
              "</table>\n",
              "</div>"
            ],
            "text/plain": [
              "                 ID  LIMIT_BAL  ...  PAY_AMT6  default payment next month\n",
              "5753  823267c1-561b     330000  ...         0                           1\n",
              "5853  823267c1-561b          0  ...         0                           0\n",
              "6118  249b09c0-f4c7     360000  ...      2947                           0\n",
              "6218  249b09c0-f4c7          0  ...         0                           0\n",
              "8746  ffb9a143-c375      80000  ...      6200                           0\n",
              "8846  ffb9a143-c375          0  ...         0                           0\n",
              "\n",
              "[6 rows x 25 columns]"
            ]
          },
          "metadata": {
            "tags": []
          },
          "execution_count": 41
        }
      ]
    },
    {
      "cell_type": "markdown",
      "metadata": {
        "id": "FZxLUAoKuR-i"
      },
      "source": [
        "Ao analisar os dados acima, vemos que para cada linha duplicada, existe uma linha que parece ter dados válidos e outra com valores 0. Vamos considerar que os valores 0 nesse conjunto de dados são um erro da extração. Sendo assim, o critério que vamos adotar para limpar os valores duplicados será o de linhas que possuem valores 0 em todas as suas colunas (exceto no ID).\n",
        "\n",
        "Para isso, vamos criar uma outra máscara que será aplicada à todo o DataFrame, então ela precisa ser uma matriz do mesmo tamanho do DataFrame:"
      ]
    },
    {
      "cell_type": "code",
      "metadata": {
        "id": "o8VdW4__wOaN"
      },
      "source": [
        "df_zero = df == 0"
      ],
      "execution_count": null,
      "outputs": []
    },
    {
      "cell_type": "markdown",
      "metadata": {
        "id": "cfTFZRmlxRzY"
      },
      "source": [
        "Nas próximas etapas usaremos o `df_zero` para criar uma série booleana que identifique cada linha em que todos os elementos a partir da segunda coluna sejam 0. Teremos que indexar df_zero usano o método de indexação de inteiros `.iloc`."
      ]
    },
    {
      "cell_type": "code",
      "metadata": {
        "id": "muDewRMoy7Cb"
      },
      "source": [
        "atributos_zero_mask = df_zero.iloc[:, 1:].all(axis=1)"
      ],
      "execution_count": null,
      "outputs": []
    },
    {
      "cell_type": "markdown",
      "metadata": {
        "id": "vc2khbM2zKGs"
      },
      "source": [
        "Vamos calcular a soma dessa série:"
      ]
    },
    {
      "cell_type": "code",
      "metadata": {
        "id": "pP7lQOljzOZU",
        "colab": {
          "base_uri": "https://localhost:8080/",
          "height": 35
        },
        "outputId": "920113fa-7e29-4d6b-c8d0-5fc3619bd2f1"
      },
      "source": [
        "sum(atributos_zero_mask)"
      ],
      "execution_count": null,
      "outputs": [
        {
          "output_type": "execute_result",
          "data": {
            "text/plain": [
              "315"
            ]
          },
          "metadata": {
            "tags": []
          },
          "execution_count": 47
        }
      ]
    },
    {
      "cell_type": "markdown",
      "metadata": {
        "id": "5v9iKy3yzQn8"
      },
      "source": [
        "Essa saída nos diz que 315 linhas têm zeros para cada coluna exceto a primeira. Esse número é maior do que o número de IDs duplicados, logo, se excluirmos todas as \"linhas de 0\", podemos nos livrar das duplicatas.\n",
        "\n",
        "Vamos limpar o DataFrame original com essa máscara:"
      ]
    },
    {
      "cell_type": "code",
      "metadata": {
        "id": "D-WkL3000eCg"
      },
      "source": [
        "df_limpo = df.loc[~atributos_zero_mask, :].copy()"
      ],
      "execution_count": null,
      "outputs": []
    },
    {
      "cell_type": "markdown",
      "metadata": {
        "id": "AtrJxYqY1Die"
      },
      "source": [
        "Nesse trecho o que fizemos foi aplicar a negação da máscara, ou seja, selecionamos os valores que são diferentes de 0. O operador `.copy()` faz uma cópia do DataFrame.\n",
        "\n",
        "Analisando agora o DataFrame resultante através do operador `.shape`:"
      ]
    },
    {
      "cell_type": "code",
      "metadata": {
        "id": "fhR5ZtsH0zx6",
        "colab": {
          "base_uri": "https://localhost:8080/",
          "height": 35
        },
        "outputId": "6f069649-5758-4ca2-ffd6-95db86b5864f"
      },
      "source": [
        "df_limpo.shape"
      ],
      "execution_count": null,
      "outputs": [
        {
          "output_type": "execute_result",
          "data": {
            "text/plain": [
              "(29685, 25)"
            ]
          },
          "metadata": {
            "tags": []
          },
          "execution_count": 51
        }
      ]
    },
    {
      "cell_type": "markdown",
      "metadata": {
        "id": "faqoWjX41jvB"
      },
      "source": [
        "Vemos que eliminamos com sucesso as duplicatas."
      ]
    },
    {
      "cell_type": "code",
      "metadata": {
        "id": "vHmGEDQU02qY",
        "colab": {
          "base_uri": "https://localhost:8080/",
          "height": 35
        },
        "outputId": "39eae464-0844-4dcd-fc31-f45e0c364021"
      },
      "source": [
        "df_limpo['ID'].nunique()"
      ],
      "execution_count": null,
      "outputs": [
        {
          "output_type": "execute_result",
          "data": {
            "text/plain": [
              "29685"
            ]
          },
          "metadata": {
            "tags": []
          },
          "execution_count": 50
        }
      ]
    }
  ]
}