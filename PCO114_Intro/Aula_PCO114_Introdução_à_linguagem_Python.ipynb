{
  "nbformat": 4,
  "nbformat_minor": 0,
  "metadata": {
    "colab": {
      "name": "Aula PCO114 - Introdução à linguagem Python.ipynb",
      "provenance": [],
      "collapsed_sections": []
    },
    "kernelspec": {
      "name": "python3",
      "display_name": "Python 3"
    }
  },
  "cells": [
    {
      "cell_type": "markdown",
      "metadata": {
        "id": "0PKyRfeTfPHv"
      },
      "source": [
        "# Aula de introdução ao Python"
      ]
    },
    {
      "cell_type": "markdown",
      "metadata": {
        "id": "2MjCI_ZqfZAo"
      },
      "source": [
        "## O Básico - Formatação de Espaço em Branco\n",
        "Muitas linguagens utilizam chaves para delimitar blocos de código.\n",
        "Python utiliza identação."
      ]
    },
    {
      "cell_type": "code",
      "metadata": {
        "id": "6toOBc6OfJAK",
        "colab": {
          "base_uri": "https://localhost:8080/",
          "height": 384
        },
        "outputId": "134bb745-8764-4699-94a6-e2b5e28f40a6"
      },
      "source": [
        "#comentários são precedidos por '#'\n",
        "for i in [1,2,3,4,5]: \n",
        "  print(i)    #vai exibir o valor de i (laço externo)\n",
        "  for j in [1,2,3]:\n",
        "    print(j)  #vai exibir o valor de j (laço interno)"
      ],
      "execution_count": null,
      "outputs": [
        {
          "output_type": "stream",
          "text": [
            "1\n",
            "1\n",
            "2\n",
            "3\n",
            "2\n",
            "1\n",
            "2\n",
            "3\n",
            "3\n",
            "1\n",
            "2\n",
            "3\n",
            "4\n",
            "1\n",
            "2\n",
            "3\n",
            "5\n",
            "1\n",
            "2\n",
            "3\n"
          ],
          "name": "stdout"
        }
      ]
    },
    {
      "cell_type": "code",
      "metadata": {
        "id": "2nlbj3NAgcTu"
      },
      "source": [
        "#Operação em mais de uma linha\n",
        "dois_mais_tres = 2 + \\\n",
        "                  3"
      ],
      "execution_count": null,
      "outputs": []
    },
    {
      "cell_type": "markdown",
      "metadata": {
        "id": "OkeOtHf_hhvy"
      },
      "source": [
        "#### **Módulos**\n",
        "\n",
        "Módulos existem no Python para que você carregue recursos da linguagem que não são carregados por padrão, sejam eles da própria linguagem ou de terceiros.\n",
        "\n",
        "Nesse caso, é necessário importar (`import`) os módulos que contém tais recursos."
      ]
    },
    {
      "cell_type": "code",
      "metadata": {
        "id": "2K-wP_Afi0Ms",
        "colab": {
          "base_uri": "https://localhost:8080/",
          "height": 35
        },
        "outputId": "dcabe30f-30fd-4398-af0f-31c4ba2d4b5d"
      },
      "source": [
        "#importando o módulo numpy\n",
        "\n",
        "import numpy as np  #alguns alias são convenções dentro da comunidade\n",
        "\n",
        "inteiros_aleatorios = np.random.randint(low=1,high=5,size=10)\n",
        "\n",
        "inteiros_aleatorios"
      ],
      "execution_count": null,
      "outputs": [
        {
          "output_type": "execute_result",
          "data": {
            "text/plain": [
              "array([3, 1, 4, 3, 3, 2, 1, 3, 3, 1])"
            ]
          },
          "metadata": {
            "tags": []
          },
          "execution_count": 1
        }
      ]
    },
    {
      "cell_type": "markdown",
      "metadata": {
        "id": "6KBgqggnjHGU"
      },
      "source": [
        "#### **Funções**\n",
        "\n",
        "Em Python, funções são regras que recebem 0 ou mais entradas e retornam uma saída correspondente. Para criar uma função, utilizamos `def`:"
      ]
    },
    {
      "cell_type": "code",
      "metadata": {
        "id": "TfF8VziDqZwj"
      },
      "source": [
        "def dobro(x):\n",
        "  \"\"\"Opicionalmente, é aqui onde podemos colocar uma string para definir (documentar) o que a função faz.\n",
        "      Neste caso, a função retorna o dobro de um valor x recebido como entrada\"\"\"\n",
        "  return x * 2"
      ],
      "execution_count": null,
      "outputs": []
    },
    {
      "cell_type": "markdown",
      "metadata": {
        "id": "NawC9OARrGPt"
      },
      "source": [
        "Funções em Python são de *primeira classe*. Isso significa que podemos atribuí-las a variáveis e passá-las para outras funções como um argumento."
      ]
    },
    {
      "cell_type": "code",
      "metadata": {
        "id": "kpBCTYmZriHX",
        "colab": {
          "base_uri": "https://localhost:8080/",
          "height": 35
        },
        "outputId": "c181866a-e446-4723-e349-ab5fdd687574"
      },
      "source": [
        "def aplica_funcao(f):\n",
        "  \"\"\"Realiza a chamada da função f com 1 como seu argumento\"\"\"\n",
        "  return f(1)\n",
        "\n",
        "funcao_dobro = dobro #cria uma variável com a função dobro definida anteriormente\n",
        "x = aplica_funcao(funcao_dobro) #passa a funcção como argumento de outra função\n",
        "x"
      ],
      "execution_count": null,
      "outputs": [
        {
          "output_type": "execute_result",
          "data": {
            "text/plain": [
              "2"
            ]
          },
          "metadata": {
            "tags": []
          },
          "execution_count": 4
        }
      ]
    },
    {
      "cell_type": "markdown",
      "metadata": {
        "id": "neOnoH0VsAAI"
      },
      "source": [
        "Os parâmetros das funções em Python podem receber argumentos com valores padrão. Dessa forma só é necessário especificar o valor de um argumento quando desejarmos."
      ]
    },
    {
      "cell_type": "code",
      "metadata": {
        "id": "paKAM119srsp",
        "colab": {
          "base_uri": "https://localhost:8080/",
          "height": 54
        },
        "outputId": "88caffb5-c4b1-4667-9238-3b7061ad8864"
      },
      "source": [
        "def meu_print(mensagem=\"Minha mensagem padrão\"):\n",
        "  print(mensagem)\n",
        "\n",
        "meu_print(\"Olá!\") #Vai exibir o valor 'Olá!'\n",
        "meu_print() #Vai exibir o valor padrão da função"
      ],
      "execution_count": null,
      "outputs": [
        {
          "output_type": "stream",
          "text": [
            "Olá!\n",
            "Minha mensagem padrão\n"
          ],
          "name": "stdout"
        }
      ]
    },
    {
      "cell_type": "markdown",
      "metadata": {
        "id": "RBa4CaFetM2V"
      },
      "source": [
        "Pode ser útil também especificar os argumentos pelo nome, como no exemplo a seguir:"
      ]
    },
    {
      "cell_type": "code",
      "metadata": {
        "id": "JekmxSo1tfiN",
        "colab": {
          "base_uri": "https://localhost:8080/",
          "height": 35
        },
        "outputId": "5e54d2d6-d87c-47c3-f836-793ce97d7c06"
      },
      "source": [
        "def subtrair(a=0, b=0):\n",
        "  return a - b\n",
        "\n",
        "subtrair(10, 5) #retorna 5\n",
        "subtrair(0, 5) #retorna -5\n",
        "subtrair(b=5) #retorna o mesmo que a chamada anterior\n",
        "subtrair(b=5, a=10) #retorna 5"
      ],
      "execution_count": null,
      "outputs": [
        {
          "output_type": "execute_result",
          "data": {
            "text/plain": [
              "-5"
            ]
          },
          "metadata": {
            "tags": []
          },
          "execution_count": 7
        }
      ]
    },
    {
      "cell_type": "markdown",
      "metadata": {
        "id": "Fsxrj8btt5Av"
      },
      "source": [
        "#### **Listas**\n",
        "\n",
        "Uma das estruturas mais básicas e mais utilizadas em Python são as listas (`list`). Muito parecida com os arrays de outras linguagens, a lista tem algumas funcionalidades a mais. Abaixo, alguns exemplos:"
      ]
    },
    {
      "cell_type": "code",
      "metadata": {
        "id": "tTDrkgVHvnzR",
        "colab": {
          "base_uri": "https://localhost:8080/",
          "height": 54
        },
        "outputId": "2b8f1ad2-9367-4898-bcff-09fcd37fdb6c"
      },
      "source": [
        "lista_inteiros = [1,2,3]\n",
        "lista_heterogenea = [\"string\", 0.1, True]\n",
        "lista_de_listas = [lista_inteiros, lista_heterogenea, []]\n",
        "\n",
        "#verificando o tamanho da lista\n",
        "lista_tam = len(lista_inteiros)\n",
        "print(lista_tam)\n",
        "\n",
        "#somando elementos da lista\n",
        "lista_sum = sum(lista_inteiros)\n",
        "print(lista_sum)"
      ],
      "execution_count": null,
      "outputs": [
        {
          "output_type": "stream",
          "text": [
            "3\n",
            "6\n"
          ],
          "name": "stdout"
        }
      ]
    },
    {
      "cell_type": "markdown",
      "metadata": {
        "id": "5LYhIslZwQKN"
      },
      "source": [
        "É possível acessar ou configurar o *n*-ésimo elemento de uma lista atráves do uso de colchetes:"
      ]
    },
    {
      "cell_type": "code",
      "metadata": {
        "id": "pBOF8Nt-wl6l"
      },
      "source": [
        "x = range(10) #cria uma lista com 10 elementos, começando em 0 [0, 1, ..., 9]\n",
        "zero = x[0]   #acessa o primeiro elemento da lista, pois elas são indexadas a partir de 0\n",
        "um = x[1]     #acessa o segundo elemento\n",
        "nove = x[-1]  #acessa o último elemento\n",
        "oito = x[-2]  #acessa o penúltimo elemento"
      ],
      "execution_count": null,
      "outputs": []
    },
    {
      "cell_type": "markdown",
      "metadata": {
        "id": "OJuMiBKvxgro"
      },
      "source": [
        "Outra operação muito comum em listas é o recorte (*slice*), também realizado utilizando colchetes:"
      ]
    },
    {
      "cell_type": "code",
      "metadata": {
        "id": "GS6acF6ox6Fp"
      },
      "source": [
        "tres_primeiros = x[:3]  #[0,1,2]\n",
        "tres_ate_fim = x[3:]    #[3,4,5,...,9]\n",
        "um_a_quatro = x[1:5]    #[1,2,3,4]\n",
        "ultimos_tres = x[-3:]   #[7,8,9]\n",
        "sem_primero_e_ultimo = x[1:-1] #[1,2,...,8]\n",
        "copia_de_x = x[:]       #[0,1,2,...,9]"
      ],
      "execution_count": null,
      "outputs": []
    },
    {
      "cell_type": "markdown",
      "metadata": {
        "id": "beDmb2sbzOPV"
      },
      "source": [
        "#### **Dicionários**\n",
        "\n",
        "Um dicionário (`dict`) em Python é uma estrutura que associa *valores* com *chaves*, permitindo a recuperação de um valor correspondente a uma chave rapidamente."
      ]
    },
    {
      "cell_type": "code",
      "metadata": {
        "id": "YtKuk4Wa0E3v",
        "colab": {
          "base_uri": "https://localhost:8080/",
          "height": 35
        },
        "outputId": "c61677df-916c-4e52-d7e4-0a7050791fe1"
      },
      "source": [
        "dict_vazio = {}\n",
        "dict_vazio2 = dict()\n",
        "notas = {'João': 8, 'Maria': 9}\n",
        "\n",
        "#para procurar um valor, basta informar uma chave\n",
        "\n",
        "nota_do_joao = notas[\"João\"]\n",
        "nota_do_joao"
      ],
      "execution_count": null,
      "outputs": [
        {
          "output_type": "execute_result",
          "data": {
            "text/plain": [
              "8"
            ]
          },
          "metadata": {
            "tags": []
          },
          "execution_count": 13
        }
      ]
    },
    {
      "cell_type": "markdown",
      "metadata": {
        "id": "NSq_Rlwt0ORX"
      },
      "source": [
        "É possível modificar os valores em um dicionário e até inserir novas entradas:"
      ]
    },
    {
      "cell_type": "code",
      "metadata": {
        "id": "8Lbmj3yC1NqC",
        "colab": {
          "base_uri": "https://localhost:8080/",
          "height": 35
        },
        "outputId": "63e6c21b-60ca-4695-c559-82cbcb4e104f"
      },
      "source": [
        "notas['João'] = 8.5\n",
        "notas['Pedro'] = 10 #adiciona uma nova entrada no dict\n",
        "notas"
      ],
      "execution_count": null,
      "outputs": [
        {
          "output_type": "execute_result",
          "data": {
            "text/plain": [
              "{'João': 8.5, 'Maria': 9, 'Pedro': 10}"
            ]
          },
          "metadata": {
            "tags": []
          },
          "execution_count": 14
        }
      ]
    },
    {
      "cell_type": "markdown",
      "metadata": {
        "id": "ahrlpeiX1YBb"
      },
      "source": [
        "Dicionários são muito utilizados para representar dados estruturados."
      ]
    },
    {
      "cell_type": "code",
      "metadata": {
        "id": "BbFhosZl2EH0"
      },
      "source": [
        "tweet = {\n",
        "    \"user\"  : \"dsacademybr\",\n",
        "    \"tweet\" : \"Data Science é incrível!\",\n",
        "    \"retweet_count\" : 100,\n",
        "    \"hashtags\"  : [\"#data\", \"#science\", \"#awesome\", \"#yolo\"]\n",
        "}"
      ],
      "execution_count": null,
      "outputs": []
    },
    {
      "cell_type": "markdown",
      "metadata": {
        "id": "OYXXrj_S295K"
      },
      "source": [
        "É possível analisar esse dicionário de diferentes formas:"
      ]
    },
    {
      "cell_type": "code",
      "metadata": {
        "id": "A4cwmy7N3Kqf",
        "colab": {
          "base_uri": "https://localhost:8080/",
          "height": 35
        },
        "outputId": "37b4f8c8-c3ca-405e-9e8b-b8ffbe1e12fd"
      },
      "source": [
        "tweet_keys = tweet.keys() #retorna uma lista das chaves\n",
        "tweet_keys"
      ],
      "execution_count": null,
      "outputs": [
        {
          "output_type": "execute_result",
          "data": {
            "text/plain": [
              "dict_keys(['user', 'tweet', 'retweet_count', 'hashtags'])"
            ]
          },
          "metadata": {
            "tags": []
          },
          "execution_count": 18
        }
      ]
    },
    {
      "cell_type": "code",
      "metadata": {
        "id": "3imSUjXP3Q93",
        "colab": {
          "base_uri": "https://localhost:8080/",
          "height": 35
        },
        "outputId": "c70b915e-b274-4142-e5b2-74365b92ef53"
      },
      "source": [
        "tweet_values = tweet.values() #retorna uma lista de valores-chave\n",
        "tweet_values"
      ],
      "execution_count": null,
      "outputs": [
        {
          "output_type": "execute_result",
          "data": {
            "text/plain": [
              "dict_values(['dsacademybr', 'Data Science é incrível!', 100, ['#data', '#science', '#awesome', '#yolo']])"
            ]
          },
          "metadata": {
            "tags": []
          },
          "execution_count": 19
        }
      ]
    },
    {
      "cell_type": "code",
      "metadata": {
        "id": "BP_3rCLH3Y6p",
        "colab": {
          "base_uri": "https://localhost:8080/",
          "height": 35
        },
        "outputId": "8c89c11a-066a-4887-cb0e-dc82e1ef3a93"
      },
      "source": [
        "tweet_itens = tweet.items() #retorna uma lista de (chave, valor)\n",
        "tweet_itens"
      ],
      "execution_count": null,
      "outputs": [
        {
          "output_type": "execute_result",
          "data": {
            "text/plain": [
              "dict_items([('user', 'dsacademybr'), ('tweet', 'Data Science é incrível!'), ('retweet_count', 100), ('hashtags', ['#data', '#science', '#awesome', '#yolo'])])"
            ]
          },
          "metadata": {
            "tags": []
          },
          "execution_count": 20
        }
      ]
    },
    {
      "cell_type": "code",
      "metadata": {
        "id": "6YIj9tbE3pGJ",
        "colab": {
          "base_uri": "https://localhost:8080/",
          "height": 35
        },
        "outputId": "ed260572-f46b-4764-c2d1-4695d45164c9"
      },
      "source": [
        "\"user\" in tweet_keys  #retorna Verdadeiro, porém é mais lento pois percorre uma lista"
      ],
      "execution_count": null,
      "outputs": [
        {
          "output_type": "execute_result",
          "data": {
            "text/plain": [
              "True"
            ]
          },
          "metadata": {
            "tags": []
          },
          "execution_count": 22
        }
      ]
    },
    {
      "cell_type": "code",
      "metadata": {
        "id": "Q8-tzuGo31YC",
        "colab": {
          "base_uri": "https://localhost:8080/",
          "height": 35
        },
        "outputId": "ccc9816b-38c3-4954-9137-e16118ff8473"
      },
      "source": [
        "\"user\" in tweet #retorna Verdadeiro e é mais rápido porque usa o dict"
      ],
      "execution_count": null,
      "outputs": [
        {
          "output_type": "execute_result",
          "data": {
            "text/plain": [
              "True"
            ]
          },
          "metadata": {
            "tags": []
          },
          "execution_count": 23
        }
      ]
    },
    {
      "cell_type": "code",
      "metadata": {
        "id": "o384ZhKz4Hpq",
        "colab": {
          "base_uri": "https://localhost:8080/",
          "height": 35
        },
        "outputId": "d2f4ef18-1f9a-4db7-a5a1-2844b3ebd1dc"
      },
      "source": [
        "\"dsacademybr\" in tweet_values"
      ],
      "execution_count": null,
      "outputs": [
        {
          "output_type": "execute_result",
          "data": {
            "text/plain": [
              "True"
            ]
          },
          "metadata": {
            "tags": []
          },
          "execution_count": 24
        }
      ]
    },
    {
      "cell_type": "markdown",
      "metadata": {
        "id": "eHS0XOg24NTj"
      },
      "source": [
        "#### **Controle de Fluxo**\n",
        "\n",
        "Python também implementa estruturas de controle como qualquer outra linguagem de programação, com `if`, `while` e `for`.\n",
        "\n",
        "Utilizando o `if` é possível realizar uma ação condicional:"
      ]
    },
    {
      "cell_type": "code",
      "metadata": {
        "id": "0t8YN-HV5U_t"
      },
      "source": [
        "if 1 > 2:\n",
        "  mensagem = \"Apenas se 1 for maior que 2\"\n",
        "elif 1 > 3:\n",
        "  mensagem = \"O elif é o mesmo que o else if de outras linguagens\"\n",
        "else:\n",
        "  mensagem = \"Se nenhuma outra condição for atendida\""
      ],
      "execution_count": null,
      "outputs": []
    },
    {
      "cell_type": "markdown",
      "metadata": {
        "id": "Igj3tTBO6Niv"
      },
      "source": [
        "Em razão da filosofia de código mais legível, a estrutura *ternária* `if-then-else` é bastante empregada por ser escrita em uma linha apenas:\n"
      ]
    },
    {
      "cell_type": "code",
      "metadata": {
        "id": "JZVX-NzR6iLu",
        "colab": {
          "base_uri": "https://localhost:8080/",
          "height": 36
        },
        "outputId": "ee227e75-acc8-4e39-f0bd-00ff141f56c2"
      },
      "source": [
        "x = 4\n",
        "num_par = \"par\" if x % 2 == 0 else \"ímpar\"\n",
        "num_par"
      ],
      "execution_count": null,
      "outputs": [
        {
          "output_type": "execute_result",
          "data": {
            "application/vnd.google.colaboratory.intrinsic+json": {
              "type": "string"
            },
            "text/plain": [
              "'par'"
            ]
          },
          "metadata": {
            "tags": []
          },
          "execution_count": 29
        }
      ]
    },
    {
      "cell_type": "markdown",
      "metadata": {
        "id": "UsxyLSkh7fGU"
      },
      "source": [
        "Python também possui um loop `while`:"
      ]
    },
    {
      "cell_type": "code",
      "metadata": {
        "id": "2dk1G9b97rXM",
        "colab": {
          "base_uri": "https://localhost:8080/",
          "height": 201
        },
        "outputId": "2de5cfe6-6a0b-48b3-dbe0-dc59904c46b0"
      },
      "source": [
        "x = 0\n",
        "while x < 10:\n",
        "  print(x, \"é menor que 10\")\n",
        "  x += 1"
      ],
      "execution_count": null,
      "outputs": [
        {
          "output_type": "stream",
          "text": [
            "0 é menor que 10\n",
            "1 é menor que 10\n",
            "2 é menor que 10\n",
            "3 é menor que 10\n",
            "4 é menor que 10\n",
            "5 é menor que 10\n",
            "6 é menor que 10\n",
            "7 é menor que 10\n",
            "8 é menor que 10\n",
            "9 é menor que 10\n"
          ],
          "name": "stdout"
        }
      ]
    },
    {
      "cell_type": "markdown",
      "metadata": {
        "id": "fBWM1oaw71Nk"
      },
      "source": [
        "Entretanto, o loop `for` e `in` é mais comumente empregado:"
      ]
    },
    {
      "cell_type": "code",
      "metadata": {
        "id": "SMSc5KqE8ATb",
        "colab": {
          "base_uri": "https://localhost:8080/",
          "height": 201
        },
        "outputId": "9c5cba34-2a2f-4946-9dbb-b692d4476dc5"
      },
      "source": [
        "for x in range(10):\n",
        "  print(x, \"é menor que 10\")"
      ],
      "execution_count": null,
      "outputs": [
        {
          "output_type": "stream",
          "text": [
            "0 é menor que 10\n",
            "1 é menor que 10\n",
            "2 é menor que 10\n",
            "3 é menor que 10\n",
            "4 é menor que 10\n",
            "5 é menor que 10\n",
            "6 é menor que 10\n",
            "7 é menor que 10\n",
            "8 é menor que 10\n",
            "9 é menor que 10\n"
          ],
          "name": "stdout"
        }
      ]
    },
    {
      "cell_type": "code",
      "metadata": {
        "id": "jy57Yth08E7E"
      },
      "source": [
        ""
      ],
      "execution_count": null,
      "outputs": []
    }
  ]
}